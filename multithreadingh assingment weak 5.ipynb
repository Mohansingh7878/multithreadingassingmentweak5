{
 "cells": [
  {
   "cell_type": "markdown",
   "id": "a5379d93-bb81-405b-af8d-b7340779e322",
   "metadata": {},
   "source": [
    "Q1.what is multithreading in python? Why is it used? Name the module used to handle threads in python\n",
    "."
   ]
  },
  {
   "cell_type": "markdown",
   "id": "79be60c3-8748-4519-8547-bba4ce27421d",
   "metadata": {},
   "source": [
    "MULTITHREADING :----Multithreading is defined as the ability of a processor to execute multiple threads concurrently. In a simple, single-core CPU, it is achieved using frequent switching between threads.\n",
    "\n",
    "\n",
    "WHY IS IT USED :----python multithreading enables efficient utilization of the resources as the threads share the data space and memory. Multithreading in Python allows the concurrent and parallel occurrence of various tasks. It causes a reduction in time consumption or response time, thereby increasing the performance.\n",
    "\n",
    "\n",
    "\n",
    "THE MODULE USED TO HANDLE THREAD IN PYTHON :-----Threading Modules. The threading module is a high-level implementation of multithreading used to deploy an application in Python. To use multithreading, we need to import the threading module in Python Program.\n",
    "\n"
   ]
  },
  {
   "cell_type": "code",
   "execution_count": null,
   "id": "05afdd72-a027-412f-8427-583a83b20832",
   "metadata": {},
   "outputs": [],
   "source": []
  },
  {
   "cell_type": "markdown",
   "id": "7acb3d77-092a-40fc-ad64-005148c43d61",
   "metadata": {},
   "source": [
    "Q2. Why threading module used? Write the use of the following functions\n",
    "A.activeCount()\n",
    "B.currentThread()\n",
    "C.enumerate()\n"
   ]
  },
  {
   "cell_type": "markdown",
   "id": "43daba39-84dd-4f71-8474-94471d3dca41",
   "metadata": {},
   "source": [
    "ANS :--\n",
    "WHY THREADING MODULE USE :---threading module is used for creating, controlling and managing threads in python\n",
    "\n",
    "A.ACTIVECOUNT():---\n",
    "The activeCount() method of ThreadGroup class is used to return the number of active threads in the current thread's thread group. The returned value is only an estimate because the number of threads may change dynamically while this method traverses internal data structures.\n",
    "\n",
    "\n",
    "B.CURRENTTHREAD():----\n",
    "\n",
    "Current_thread() is an inbuilt method of the threading module, it is used to return the current Thread object, which corresponds to the caller's thread of control.\n",
    "\n",
    "C.ENUMERATE():-----\n",
    "\n",
    "Enumerate is a built-in function in python that allows you to keep track of the number of iterations (loops) in a loop. This enumerate object contains a count (from the start, which always defaults to 0) and a value obtained from iterating over the iterable object."
   ]
  },
  {
   "cell_type": "code",
   "execution_count": null,
   "id": "49367d54-dc44-4c77-80ca-9d4a0c814d71",
   "metadata": {},
   "outputs": [],
   "source": []
  },
  {
   "cell_type": "markdown",
   "id": "7e447c00-f88e-4ba2-a7d6-f29eb9202dbb",
   "metadata": {},
   "source": [
    "3. Explain the following functions:\n",
    "\n",
    "1. run()\n",
    "2.start()\n",
    "3. join()\n",
    "4.isAlive()"
   ]
  },
  {
   "cell_type": "markdown",
   "id": "021dc2bb-1751-4434-a905-7fd44600661a",
   "metadata": {},
   "source": [
    "1.RUN() :---\n",
    "run() method executes any target function belonging to a given thread object that is now active. It normally executes in the background after the . start() method is invoked.\n",
    "\n",
    "\n",
    "2.START():---\n",
    "The Thread. start() method is an inbuilt method of the Thread class of the threading module, it is used to start a thread's activity. This method calls the run() method internally which then executes the target method. This method must be called at most one time for one thread\n",
    "\n",
    "3.JOIN():-----\n",
    "join in Python is an in-built method used to join an iterable's elements, separated by a string separator, which is specified by you. Thus, whenever you want to join the elements of an iterable and make it a string, you can use the string join in Python.\n",
    "\n",
    "4.isAlive():---\n",
    "\n",
    "is_alive() method returns True if the thread is still running and False , otherwise.\n",
    "\n",
    "\n",
    "\n",
    "\n"
   ]
  },
  {
   "cell_type": "code",
   "execution_count": null,
   "id": "ad9bcd92-abf8-47df-924b-39a6b3e1da4a",
   "metadata": {},
   "outputs": [],
   "source": []
  },
  {
   "cell_type": "markdown",
   "id": "15c74462-cdb7-4e2e-8260-afc2bd7fe9a2",
   "metadata": {},
   "source": [
    "Q4. write a python program to create two threads. Thread one must print the list of squares and thread\n",
    "two must print the list of cubes"
   ]
  },
  {
   "cell_type": "code",
   "execution_count": 1,
   "id": "e5f67145-b196-4e23-9024-6cf41331c276",
   "metadata": {},
   "outputs": [],
   "source": [
    "import threading"
   ]
  },
  {
   "cell_type": "code",
   "execution_count": 2,
   "id": "b87379eb-b6e0-45b5-885b-494cd538e51a",
   "metadata": {},
   "outputs": [],
   "source": [
    "l=[1,2,3,4,5]"
   ]
  },
  {
   "cell_type": "code",
   "execution_count": 11,
   "id": "974b4a5c-c26c-4e4e-9357-f3f3253ba730",
   "metadata": {},
   "outputs": [
    {
     "name": "stdout",
     "output_type": "stream",
     "text": [
      "24\n",
      "8\n",
      "24\n",
      "8\n"
     ]
    }
   ],
   "source": [
    "\n",
    "import queue\n",
    "import threading\n",
    "\n",
    "NUM_ITERS = 2\n",
    "\n",
    "\n",
    "class squere():\n",
    "    def __init__(self, lat):\n",
    "        self.lat = lat\n",
    "        \n",
    "    def volume(self):\n",
    "        return self.lat ** 3\n",
    "        \n",
    "    def length(self):\n",
    "        return self.lat * 12\n",
    "\n",
    "\n",
    "def worker(squere, q, attr):\n",
    "    func = getattr(squere, attr)\n",
    "    val = func()\n",
    "    q.put(val)\n",
    "\n",
    "\n",
    "if __name__ == \"__main__\":\n",
    "    que = queue.Queue()\n",
    "    squere = squere(2)\n",
    "    threads = []\n",
    "    for _ in range(NUM_ITERS):\n",
    "        for attr in (\"length\", \"volume\"):\n",
    "            thread = threading.Thread(target=worker, args=(squere, que, attr))\n",
    "            threads.append(thread)\n",
    "\n",
    "    for thread in threads:\n",
    "        thread.start()\n",
    "\n",
    "    while not que.empty():\n",
    "        result = que.get()\n",
    "        \n",
    "        print(result)"
   ]
  },
  {
   "cell_type": "code",
   "execution_count": 10,
   "id": "3d7ec323-9acf-4505-8623-73e708bd65af",
   "metadata": {},
   "outputs": [
    {
     "name": "stdout",
     "output_type": "stream",
     "text": [
      "24\n",
      "4\n",
      "24\n",
      "4\n"
     ]
    }
   ],
   "source": [
    "import queue\n",
    "import threading\n",
    "\n",
    "NUM_ITERS = 2\n",
    "\n",
    "\n",
    "class squere():\n",
    "    def __init__(self, lat):\n",
    "        self.lat = lat\n",
    "        \n",
    "    def volume(self):\n",
    "        return self.lat ** 2\n",
    "        \n",
    "    def length(self):\n",
    "        return self.lat * 12\n",
    "\n",
    "\n",
    "def worker(squere, q, attr):\n",
    "    func = getattr(squere, attr)\n",
    "    val = func()\n",
    "    q.put(val)\n",
    "\n",
    "\n",
    "if __name__ == \"__main__\":\n",
    "    que = queue.Queue()\n",
    "    squere = squere(2)\n",
    "    threads = []\n",
    "    for _ in range(NUM_ITERS):\n",
    "        for attr in (\"length\", \"volume\"):\n",
    "            thread = threading.Thread(target=worker, args=(squere, que, attr))\n",
    "            threads.append(thread)\n",
    "\n",
    "    for thread in threads:\n",
    "        thread.start()\n",
    "\n",
    "    while not que.empty():\n",
    "        result = que.get()\n",
    "        \n",
    "        print(result)"
   ]
  },
  {
   "cell_type": "code",
   "execution_count": null,
   "id": "e8c83610-ab1a-4f7d-8fa5-9343d3c83a3e",
   "metadata": {},
   "outputs": [],
   "source": []
  },
  {
   "cell_type": "code",
   "execution_count": 12,
   "id": "c2e8f2f0-15af-4520-9b5c-76661c1f469a",
   "metadata": {},
   "outputs": [
    {
     "name": "stdout",
     "output_type": "stream",
     "text": [
      "24\n",
      "8\n",
      "24\n",
      "8\n"
     ]
    }
   ],
   "source": [
    "import queue\n",
    "import threading\n",
    "\n",
    "NUM_ITERS = 2\n",
    "\n",
    "\n",
    "class Cube():\n",
    "    def __init__(self, lat):\n",
    "        self.lat = lat\n",
    "        \n",
    "    def volume(self):\n",
    "        return self.lat ** 3\n",
    "        \n",
    "    def length(self):\n",
    "        return self.lat * 12\n",
    "\n",
    "\n",
    "def worker(cube, q, attr):\n",
    "    func = getattr(cube, attr)\n",
    "    val = func()\n",
    "    q.put(val)\n",
    "\n",
    "\n",
    "if __name__ == \"__main__\":\n",
    "    que = queue.Queue()\n",
    "    cube = Cube(2)\n",
    "    threads = []\n",
    "    for _ in range(NUM_ITERS):\n",
    "        for attr in (\"length\", \"volume\"):\n",
    "            thread = threading.Thread(target=worker, args=(cube, que, attr))\n",
    "            threads.append(thread)\n",
    "\n",
    "    for thread in threads:\n",
    "        thread.start()\n",
    "\n",
    "    while not que.empty():\n",
    "        result = que.get()\n",
    "        \n",
    "        print(result)"
   ]
  },
  {
   "cell_type": "code",
   "execution_count": null,
   "id": "813a3433-eaaf-4c66-b7da-6b0f02e513d2",
   "metadata": {},
   "outputs": [],
   "source": []
  },
  {
   "cell_type": "code",
   "execution_count": null,
   "id": "77afaa0d-c182-41b2-b1e4-6f17ed9dee4b",
   "metadata": {},
   "outputs": [],
   "source": []
  },
  {
   "cell_type": "code",
   "execution_count": null,
   "id": "3d80ba36-34bc-4b29-b915-28afd4278513",
   "metadata": {},
   "outputs": [],
   "source": []
  },
  {
   "cell_type": "markdown",
   "id": "827bdf06-5f0c-4798-a032-443c6ff7b1a4",
   "metadata": {},
   "source": [
    "Q5. State advantages and disadvantages of multithreading"
   ]
  },
  {
   "cell_type": "markdown",
   "id": "8ad6fbb1-dda5-4f14-9f93-de97dd9d7372",
   "metadata": {},
   "source": [
    "ANS :------\n",
    "Following are some of the common advantages of multithreading:------\n",
    "-----Enhanced performance by decreased development time.\n",
    "-----Simplified and streamlined program coding.\n",
    "-----Improvised GUI responsiveness.\n",
    "-----Simultaneous and parallelized occurrence of tasks.\n",
    "-----Better use of cache storage by utilization of resources.\n",
    "-----Decreased cost of maintenance.\n"
   ]
  },
  {
   "cell_type": "code",
   "execution_count": null,
   "id": "d3da495c-bcee-4dd4-a1c3-1da3dfa35077",
   "metadata": {},
   "outputs": [],
   "source": []
  },
  {
   "cell_type": "markdown",
   "id": "7685ffcf-9902-44f5-819e-cf4e8c22bf56",
   "metadata": {},
   "source": [
    "Q6. Explain deadlocks and race conditions."
   ]
  },
  {
   "cell_type": "markdown",
   "id": "b3a969e0-ca06-49e8-87d7-2d9b5f386212",
   "metadata": {},
   "source": [
    "ANS:---\n",
    "A race condition occurs when two threads use the same variable at a given time. Deadlock exists when two threads seek one lock simultaneously. This situation will stop both threads from processing or executing the functions."
   ]
  },
  {
   "cell_type": "code",
   "execution_count": null,
   "id": "a0148743-1f2b-41c6-8827-a193837ac57b",
   "metadata": {},
   "outputs": [],
   "source": []
  },
  {
   "cell_type": "code",
   "execution_count": null,
   "id": "115e2fed-9b62-4b0b-a095-747a77709cb6",
   "metadata": {},
   "outputs": [],
   "source": []
  },
  {
   "cell_type": "code",
   "execution_count": null,
   "id": "9fbe5422-98bf-4601-be4e-4122ac93534b",
   "metadata": {},
   "outputs": [],
   "source": []
  },
  {
   "cell_type": "code",
   "execution_count": null,
   "id": "a10cf78b-4fea-47f4-b1ac-6357d3e1525d",
   "metadata": {},
   "outputs": [],
   "source": []
  },
  {
   "cell_type": "code",
   "execution_count": null,
   "id": "5af6edc0-ab77-4e47-ae00-586a2af0b22c",
   "metadata": {},
   "outputs": [],
   "source": []
  },
  {
   "cell_type": "code",
   "execution_count": null,
   "id": "fdbcf832-5303-4b59-b39c-e1c4693c574d",
   "metadata": {},
   "outputs": [],
   "source": []
  },
  {
   "cell_type": "code",
   "execution_count": null,
   "id": "ba80a311-2406-4781-81f7-39753f63b38f",
   "metadata": {},
   "outputs": [],
   "source": []
  },
  {
   "cell_type": "code",
   "execution_count": null,
   "id": "9b436edf-d7df-4773-8e7b-d115b14479fc",
   "metadata": {},
   "outputs": [],
   "source": []
  },
  {
   "cell_type": "code",
   "execution_count": null,
   "id": "b4fcb580-6192-4cac-80fb-8dda6e7fe567",
   "metadata": {},
   "outputs": [],
   "source": []
  },
  {
   "cell_type": "code",
   "execution_count": null,
   "id": "ee99ae41-2732-46cf-8b97-6a6188974533",
   "metadata": {},
   "outputs": [],
   "source": []
  },
  {
   "cell_type": "code",
   "execution_count": null,
   "id": "0548e708-767c-45eb-a8f1-074cb4b0290a",
   "metadata": {},
   "outputs": [],
   "source": []
  },
  {
   "cell_type": "code",
   "execution_count": null,
   "id": "ffcaf8a6-529e-4ef7-a52a-b5c7fe7a469e",
   "metadata": {},
   "outputs": [],
   "source": []
  },
  {
   "cell_type": "code",
   "execution_count": null,
   "id": "198416d7-0a65-4c4c-baac-bdff2f718400",
   "metadata": {},
   "outputs": [],
   "source": []
  },
  {
   "cell_type": "code",
   "execution_count": null,
   "id": "b09ab86c-6dae-484e-82bb-75b440a2b355",
   "metadata": {},
   "outputs": [],
   "source": []
  },
  {
   "cell_type": "code",
   "execution_count": null,
   "id": "f7aa2e7f-6654-441a-8e8d-cda7c5a4e4f3",
   "metadata": {},
   "outputs": [],
   "source": []
  }
 ],
 "metadata": {
  "kernelspec": {
   "display_name": "Python 3 (ipykernel)",
   "language": "python",
   "name": "python3"
  },
  "language_info": {
   "codemirror_mode": {
    "name": "ipython",
    "version": 3
   },
   "file_extension": ".py",
   "mimetype": "text/x-python",
   "name": "python",
   "nbconvert_exporter": "python",
   "pygments_lexer": "ipython3",
   "version": "3.10.8"
  }
 },
 "nbformat": 4,
 "nbformat_minor": 5
}
